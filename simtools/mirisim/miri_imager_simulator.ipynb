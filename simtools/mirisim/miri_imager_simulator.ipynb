{
 "cells": [
  {
   "cell_type": "markdown",
   "source": [
    "# MIRI imager simulator\n",
    "This notebook is adapted from mirisim example notebooks: https://wiki.miricle.org/Public/MIRISimPublicRelease2dot4#User_Guide"
   ],
   "metadata": {}
  },
  {
   "cell_type": "code",
   "execution_count": 1,
   "source": [
    "# import the configuration file parsers so they can be written to file\n",
    "from mirisim.config_parser import SimConfig, SimulatorConfig, SceneConfig\n",
    "\n",
    "# import scene component generators\n",
    "from mirisim.skysim import Background\n",
    "from mirisim.skysim import externalsources\n",
    "\n",
    "from mirisim import MiriSimulation\n",
    "\n",
    "#other things to be used\n",
    "import numpy as np\n",
    "import glob                 # glob is used to find the output directory\n",
    "import os                   # for listing directory contents\n",
    "from astropy.io import fits # for reading FITS file contents\n",
    "\n",
    "import matplotlib.pyplot as plt    # to display images\n",
    "from matplotlib import colors,cm\n",
    "from matplotlib.colors import LogNorm\n",
    "%matplotlib inline        \n",
    "import warnings\n",
    "import matplotlib.cbook\n",
    "warnings.filterwarnings(\"ignore\",category=matplotlib.cbook.mplDeprecation)"
   ],
   "outputs": [],
   "metadata": {}
  },
  {
   "cell_type": "markdown",
   "source": [
    "## Create a Scene\n",
    "\n",
    "The scene created below consists of a circle of point sources surrounding a Galaxy,and a low level background, all of which fit within the main imager field of view. The point sources all have the same (blackbody) SEDs to make things simple. The galaxy as a pysynphot SED which is modified by a Keplerian velocity field.\n",
    "\n",
    "to be able to simply add the point sources ('stars') to a scene, it first needs to be initialised with a background\n",
    "\n",
    "#### Create the background emission"
   ],
   "metadata": {}
  },
  {
   "cell_type": "code",
   "execution_count": 4,
   "source": [
    "fname = 'cube25npix23lam1020inc0.fits'\n",
    "lam = fname[fname.find('lam')+3:fname.find('inc')]\n",
    "dir = './lam'+lam+'_data/'\n",
    "\n",
    "bg = Background(level = 'low', gradient = 5., pa = 45.)\n",
    "\n",
    "skycube = externalsources.Skycube(dir+fname)\n",
    "scene_config = SceneConfig.makeScene(name=\"sky0\", targets=[skycube], background=bg, loglevel=1)\n"
   ],
   "outputs": [
    {
     "output_type": "stream",
     "name": "stderr",
     "text": [
      "2021-08-02 00:13:26,642 - INFO - Initializing Background\n",
      "2021-08-02 00:13:26,649 - INFO - Initializing Skycube\n",
      "2021-08-02 00:13:26,653 - INFO - Loading external scene from FITS ./lam1020_data/cube25npix23lam1020inc0.fits\n",
      "2021-08-02 00:13:26,915 - INFO - Aligning the centre of the fits file with the centre of the scene\n"
     ]
    }
   ],
   "metadata": {}
  },
  {
   "cell_type": "code",
   "execution_count": 12,
   "source": [
    "print('Image unit is:', skycube.header['UNITS'])\n",
    "pixscale = skycube.header['CDELT1'] * 3600\n",
    "print('Image pix scale is:', pixscale)\n",
    "print(skycube.data.shape)\n",
    "\n",
    "cmap = plt.cm.viridis\n",
    "cmap.set_bad(color=cmap(0))\n",
    "plt.imshow(skycube.data[:,:,12].transpose(), cmap=cmap, norm=LogNorm(vmin=1, vmax=1e10), origin='lower')\n",
    "plt.colorbar()"
   ],
   "outputs": [
    {
     "output_type": "stream",
     "name": "stdout",
     "text": [
      "Image unit is: uJy / arcsec^2\n",
      "Image pix scale is: 0.10887890894063425\n",
      "(24, 24, 26)\n"
     ]
    },
    {
     "output_type": "execute_result",
     "data": {
      "text/plain": [
       "<matplotlib.colorbar.Colorbar at 0x126eb74c0>"
      ]
     },
     "metadata": {},
     "execution_count": 12
    },
    {
     "output_type": "display_data",
     "data": {
      "text/plain": [
       "<Figure size 432x288 with 2 Axes>"
      ],
      "image/png": "[encoded data removed]"
     },
     "metadata": {
      "needs_background": "light"
     }
    }
   ],
   "metadata": {}
  },
  {
   "cell_type": "code",
   "execution_count": 4,
   "source": [
    "skycube.data.shape"
   ],
   "outputs": [],
   "metadata": {}
  },
  {
   "cell_type": "code",
   "execution_count": 341,
   "source": [
    "from mirisim.skysim.units import getconv_factor_astropy\n",
    "import astropy.units as u\n",
    "OUTconvertf = getconv_factor_astropy(skycube.header[\"UNITS\"],'microjansky/arcsec^2')\n",
    "OUTconvertf"
   ],
   "outputs": [
    {
     "output_type": "execute_result",
     "data": {
      "text/plain": [
       "1000.0000000000001"
      ]
     },
     "metadata": {},
     "execution_count": 341
    }
   ],
   "metadata": {}
  },
  {
   "cell_type": "markdown",
   "source": [
    "## Initialise the Simulation Parameters\n",
    "\n",
    "This is where the parameters for the MRS simulation get set. Note that for internal consistency in MIRISim, all settings (including those not used in the MRS simulation here) must be set. Those not being used in this simulation are labelled with <code> NOT USED HERE </code> in the comments of each line"
   ],
   "metadata": {}
  },
  {
   "cell_type": "code",
   "execution_count": 5,
   "source": [
    "sim_config = SimConfig.makeSim(\n",
    "    name = 'sim_model1',    # name given to simulation\n",
    "    scene = 'scene.ini', # name of scene file to input\n",
    "    rel_obsdate = 0.0,          # relative observation date (0 = launch, 1 = end of 5 yrs)\n",
    "    POP = 'IMA',                # Component on which to center (Imager or MRS)\n",
    "    ConfigPath = 'IMA_SUB256',  # Configure the Optical path (MRS sub-band)\n",
    "    Dither = False,             # Don't Dither\n",
    "    StartInd = 1,               # start index for dither pattern [NOT USED HERE]\n",
    "    NDither = 2,                # number of dither positions [NOT USED HERE]\n",
    "    DitherPat = 'ima_recommended_dither.dat', # dither pattern to use [NOT USED HERE]\n",
    "    disperser = 'SHORT',        # [NOT USED HERE]\n",
    "    detector = 'SW',            # [NOT USED HERE]\n",
    "    mrs_mode = 'SLOW',          # [NOT USED HERE]\n",
    "    mrs_exposures = 2,          # [NOT USED HERE]\n",
    "    mrs_integrations = 3,       # [NOT USED HERE]\n",
    "    mrs_frames = 5,             # [NOT USED HERE]\n",
    "    ima_exposures = 1,          # number of exposures\n",
    "    ima_integrations = 10,       # number of integrations\n",
    "    ima_frames = 10,             # number of groups (for MIRI, # Groups = # Frames)\n",
    "    ima_mode = 'FAST',          # Imager read mode (default is FAST ~ 2.3 s)\n",
    "    filter = 'F1000W',          # Imager Filter to use\n",
    "    readDetect = 'SUB256'         # Portion of detector to read out\n",
    ")"
   ],
   "outputs": [],
   "metadata": {}
  },
  {
   "cell_type": "markdown",
   "source": [
    "### Export the simulation setup to a file"
   ],
   "metadata": {}
  },
  {
   "cell_type": "code",
   "execution_count": 6,
   "source": [
    "os.system('rm IMA_simulation.ini')\n",
    "sim_config.write('IMA_simulation.ini')"
   ],
   "outputs": [],
   "metadata": {}
  },
  {
   "cell_type": "markdown",
   "source": [
    "## Run the simulation\n",
    "\n",
    "Now that the scene and the setup of the simulation have been set, we can run the simulation.\n",
    "\n",
    "the last step is to setup the defaults for internal things like CDPs."
   ],
   "metadata": {}
  },
  {
   "cell_type": "code",
   "execution_count": 7,
   "source": [
    "simulator_config = SimulatorConfig.from_default()\n",
    "\n",
    "mysim = MiriSimulation(sim_config, scene_config, simulator_config)\n",
    "mysim.run()"
   ],
   "outputs": [
    {
     "output_type": "stream",
     "name": "stderr",
     "text": [
      "2021-08-02 00:14:18,264 - INFO - MIRISim version: 2.4.0\n",
      "2021-08-02 00:14:18,264 - INFO - MIRI Simulation started.\n",
      "2021-08-02 00:14:18,265 - INFO - Output will be saved to: 20210802_001417_mirisim\n",
      "2021-08-02 00:14:18,265 - INFO - Storing configs in output directory.\n",
      "2021-08-02 00:14:22,317 - INFO - Reading cosmic ray properties from parameter file /Users/spacegrey/opt/anaconda3/envs/mirisim/lib/python3.8/site-packages/miri/simulators/scasim/cosmic_ray_properties.py\n",
      "2021-08-02 00:14:22,465 - INFO - Reading detector properties from parameter file /Users/spacegrey/opt/anaconda3/envs/mirisim/lib/python3.8/site-packages/miri/simulators/scasim/detector_properties.py\n",
      "2021-08-02 00:14:23,511 - INFO - Storing dither pattern in output directory.\n",
      "2021-08-02 00:14:23,847 - WARNING - Environment variable CDP_DIR is not set. Will look up / store CDP files at ./CDP\n",
      "2021-08-02 00:14:23,850 - INFO - Setting up simulated Observation, with following settings:\n",
      "2021-08-02 00:14:23,851 - INFO - Configuration Path: IMA_SUB256\n",
      "2021-08-02 00:14:23,853 - INFO - Primary optical path: IMA\n",
      "2021-08-02 00:14:23,854 - INFO - IMA Filter: F1000W\n",
      "2021-08-02 00:14:23,855 - INFO - IMA Subarray: SUB256\n",
      "2021-08-02 00:14:23,856 - INFO - IMA detector readout mode: FAST\n",
      "2021-08-02 00:14:23,857 - INFO - IMA detector # exposures: 1\n",
      "2021-08-02 00:14:23,858 - INFO - IMA detector # integrations: 10\n",
      "2021-08-02 00:14:23,859 - INFO - IMA detector # frames: 10\n",
      "2021-08-02 00:14:23,860 - INFO - Parsing: Background\n",
      "2021-08-02 00:14:23,861 - INFO - Initializing Background\n",
      "2021-08-02 00:14:23,862 - INFO - Parsing: skycube_1\n",
      "2021-08-02 00:14:23,862 - INFO - Initializing Skycube\n",
      "2021-08-02 00:14:23,863 - INFO - Loading external scene from FITS ./lam1020_data/cube25npix23lam1020inc0.fits\n",
      "2021-08-02 00:14:23,898 - INFO - Aligning the centre of the fits file with the centre of the scene\n",
      "2021-08-02 00:14:23,900 - INFO - Simulating a single pointing.\n",
      "2021-08-02 00:14:28,276 - INFO - Reading 'DISTORTION' model from './CDP/MIRI_FM_MIRIMAGE_DISTORTION_07.04.01.fits'\n",
      "2021-08-02 00:14:29,539 - INFO - Reading 'DISTORTION' model from './CDP/MIRI_FM_MIRIMAGE_DISTORTION_07.04.01.fits'\n",
      "2021-08-02 00:14:29,625 - INFO - Creating pointing for position 1\n",
      "2021-08-02 00:14:29,625 - INFO - Creating exposure event for position 1\n",
      "2021-08-02 00:14:29,626 - INFO - Reading 'DISTORTION' model from './CDP/MIRI_FM_MIRIMAGE_DISTORTION_07.04.01.fits'\n",
      "2021-08-02 00:14:29,713 - INFO - Reading 'DISTORTION' model from './CDP/MIRI_FM_MIRIMAGE_DISTORTION_07.04.01.fits'\n",
      "2021-08-02 00:14:29,803 - INFO - Observation simulation started.\n",
      "2021-08-02 00:14:29,804 - INFO - Simulating ExposureEvent for pointing 1\n",
      "2021-08-02 00:14:29,804 - INFO - Simulating Imager exposures for pointing 1\n",
      "2021-08-02 00:14:29,805 - INFO - Simulating detector illumination for Imager exposures for pointing 1\n",
      "2021-08-02 00:14:30,026 - INFO - Running ImSim.\n",
      "2021-08-02 00:14:30,027 - INFO - Running MirimImager (version=36) for subarray=SUB256\n",
      "2021-08-02 00:14:30,040 - INFO - Reading 'AREA' model from './CDP/MIRI_FM_MIRIMAGE_AREA_07.00.00.fits'\n",
      "2021-08-02 00:14:37,834 - INFO - Retrieving PCE CDP for filter : F1000W\n",
      "2021-08-02 00:14:37,859 - INFO - Reading 'PCE' model from './CDP/MIRI_FM_MIRIMAGE_F1000W_PCE_07.00.00.fits'\n",
      "2021-08-02 00:14:38,276 - INFO - Reading 'PSF' model from './CDP/MIRI_FM_MIRIMAGE_F1000W_PSF_07.02.00.fits'\n",
      "2021-08-02 00:15:17,352 - INFO - Reading 'DISTORTION' model from './CDP/MIRI_FM_MIRIMAGE_DISTORTION_07.04.01.fits'\n",
      "2021-08-02 00:15:17,551 - INFO - Processing point sources for IMAGER \n",
      "2021-08-02 00:15:17,552 - INFO - No point sources\n",
      "2021-08-02 00:15:17,823 - INFO - No extended sources\n",
      "2021-08-02 00:15:17,994 - INFO - Downsampling spectral columns of 576 pixels. This may take long.\n",
      "2021-08-02 00:15:18,006 - INFO - 3D downsampling took 0.0 seconds\n",
      "2021-08-02 00:15:18,007 - INFO - Final helper interpolation...\n",
      "2021-08-02 00:15:18,245 - INFO - All done\n",
      "2021-08-02 00:15:18,322 - INFO - Reading 'SKYFLAT' model from './CDP/MIRI_FM_MIRIMAGE_F1000W_SKYFLAT_07.00.00.fits'\n",
      "2021-08-02 00:15:41,397 - INFO - Apply Footprint\n",
      "2021-08-02 00:15:41,405 - INFO - Retrieving Foot Print from PIXELFLAT\n",
      "2021-08-02 00:15:41,438 - INFO - Reading 'PIXELFLAT' model from './CDP/MIRI_FM_MIRIMAGE_SLOW_F1000W_PIXELFLAT_07.01.01.fits'\n",
      "2021-08-02 00:16:05,440 - INFO - Wrote illumination model: 20210802_001417_mirisim/illum_models/illum_model_seq1_MIRIMAGE_F1000W.fits\n",
      "2021-08-02 00:16:05,442 - INFO - Simulating integrated detector images for Imager exposures for pointing 1\n",
      "2021-08-02 00:16:05,651 - INFO - Simulating Imager exposure 1\n",
      "2021-08-02 00:16:05,655 - INFO - Running SCASim\n",
      "2021-08-02 00:16:05,656 - INFO - Simulating  detector readout for MIRIMAGE from illumination data model of shape (1, 256, 256).\n",
      "2021-08-02 00:16:05,671 - INFO - Results will be returned in an exposure data model.\n",
      "2021-08-02 00:16:05,685 - INFO -   Detector readout mode is FAST (samplesum=1, sampleskip=0, nframe=1, groupgap=0) \n",
      "  with 10 integrations and ngroups=10 defined explicitly.\n",
      "  Detector subarray mode is SUB256  [51, 413, 256, 256].\n",
      "2021-08-02 00:16:05,686 - INFO - Detector temperature = 6.70 K (which affects dark current and read noise).\n",
      "2021-08-02 00:16:05,687 - INFO - Cosmic ray environment is SOLAR_MIN.\n",
      "2021-08-02 00:16:05,689 - INFO - Reading cosmic ray library file: '/Users/spacegrey/opt/anaconda3/envs/mirisim/lib/python3.8/site-packages/miri/simulators/data/cosmic_rays/CRs_SiAs_470_SUNMIN_07.fits'\n",
      "2021-08-02 00:16:05,741 - INFO - Simulation control flags:\n",
      "\tQuantum efficiency simulation turned OFF.\n",
      "\tPoisson noise simulation turned ON.\n",
      "\tRead noise simulation turned ON.\n",
      "\tReference pixels simulation turned ON.\n",
      "\tBad pixels simulation turned ON.\n",
      "\tDark current simulation turned ON.\n",
      "\tFlat-field simulation turned ON.\n",
      "\tAmplifier bias and gain turned ON.\n",
      "\tDetector non-linearity effects turned ON.\n",
      "\tDetector drift effects turned ON.\n",
      "\tDetector latency effects turned ON.\n",
      "2021-08-02 00:16:05,742 - INFO - Input subarray mode obtained from illumination map: SUB256\n",
      "2021-08-02 00:16:05,743 - INFO - Detector properties translates input subarray SUB256 into [51, 413, 256, 256]\n",
      "2021-08-02 00:16:05,745 - INFO - Creating a new detector object for 1024 rows x 1024 columns.\n",
      "2021-08-02 00:16:05,780 - INFO - Reading 'MASK' model from './CDP/MIRI_FM_MIRIMAGE_MASK_07.02.01.fits'\n",
      "2021-08-02 00:16:13,629 - INFO - Reading 'GAIN' model from './CDP/MIRI_FM_MIRIMAGE_GAIN_04.00.00.fits'\n",
      "2021-08-02 00:16:27,257 - INFO - Reading DARK model from './CDP/MIRI_FM_MIRIMAGE_FAST_SUB256_DARK_06.01.00.fits'\n"
     ]
    }
   ],
   "metadata": {}
  },
  {
   "cell_type": "markdown",
   "source": [
    "## Examine some of the results\n",
    "\n",
    "Now that the MIRISim simulation has completed, lets examine the results. \n",
    "\n",
    "\n",
    "The first thing to note is that the outputs are placed in a date-labelled directory taking the form  <code> YYYYMMDD_hhmmss_mirisim</code>.  The name of the output directory is given in the last line of the MIRISim log above.  Because the output directory is date-labelled, we can quantify which was the most recent run of MIRISim, and find its output directory using <code>glob.glob</code>"
   ],
   "metadata": {}
  },
  {
   "cell_type": "code",
   "execution_count": 2,
   "source": [
    "outputdir = sorted(glob.glob('*_*_mirisim'),key=os.path.getmtime)[-1]    #[-1] takes the last entry found\n",
    "\n",
    "outputDirContents = os.listdir(outputdir)\n",
    "\n",
    "directories = [name for name in outputDirContents if os.path.isdir(os.path.join(outputdir,name))]\n",
    "files = [name for name in outputDirContents if not os.path.isdir(os.path.join(outputdir,name))]\n",
    "\n",
    "print('The subdirectories in the outputdirectory are:\\n{}'.format(directories))\n",
    "print('The files in the outputdirectory are:\\n{}'.format(files))"
   ],
   "outputs": [
    {
     "output_type": "stream",
     "name": "stdout",
     "text": [
      "The subdirectories in the outputdirectory are:\n",
      "['illum_models', 'det_images']\n",
      "The files in the outputdirectory are:\n",
      "['mirisim.log', 'simulation.ini', 'scene.ini', 'simulator.ini', 'ima_recommended_dither.dat']\n"
     ]
    }
   ],
   "metadata": {}
  },
  {
   "cell_type": "markdown",
   "source": [
    "## Viewing the final detector image\n",
    "\n",
    "The detector images are the final output of MIRISim, and have data structures and formatting consistent with what will come from MIRI itself. The data format is JWST pipeline ready.  Below an example image of the last frame of the last integration is shown. The units are <code>DN</code>.\n",
    "\n",
    "Additionally, below the FITS header information for the SCIENCE extension is listed"
   ],
   "metadata": {}
  },
  {
   "cell_type": "code",
   "execution_count": 5,
   "source": [
    "def show_outputs(MIRISim_outputdir,output_type):\n",
    "    infits = glob.glob('{}/{}/*.fits'.format(MIRISim_outputdir,output_type))[0]\n",
    "    hdulist = fits.open(infits)\n",
    "    hdu_index = 1\n",
    "    if len(hdulist[hdu_index].data.shape) > 3:\n",
    "        integ,frames,nx,ny = hdulist[hdu_index].data.shape\n",
    "        image = hdulist[hdu_index].data[0,frames-1,:,:]      \n",
    "    else:\n",
    "        image = hdulist[hdu_index].data[0,:,:]\n",
    "    min = image.mean() + 0.5 * image.std()\n",
    "    max = image.max()\n",
    "    norm = colors.LogNorm(min, max, clip=True) \n",
    "    #norm = colors.LogNorm(image.min(), image.max(), clip=True) \n",
    "\n",
    "    extent = (xmin, xmax, ymin, ymax) = (128-20, 128+20, 128-20, 128+20)\n",
    "\n",
    "    fig, (ax1, ax2) = plt.subplots(1, 2, figsize=(10, 3))\n",
    "    im1 = ax1.imshow(image, origin='lower', cmap=cm.viridis, interpolation='nearest', norm=norm)\n",
    "    ax1.invert_xaxis()\n",
    "    ax1.set_title('detector image')\n",
    "    print(image.shape)\n",
    "\n",
    "    im2 = ax2.imshow(image[xmin:xmax,ymin:ymax], extent=extent, origin='lower', cmap=cm.viridis, interpolation='nearest', norm=LogNorm(vmin=1e4,vmax=6e4))\n",
    "    ax2.invert_xaxis()\n",
    "    ax2.set_title('detector image')\n",
    "    ax2.set_xlabel(\"'RA' Direction\")\n",
    "    ax2.set_ylabel(\"'DEC' Direction\")\n",
    "    fig.colorbar(im1, ax=ax1)\n",
    "    fig.colorbar(im2, ax=ax2)\n",
    "    print(min, max)\n",
    "\n",
    "show_outputs(outputdir,'det_images')\n",
    "infits = glob.glob('{}/det_images/*.fits'.format(outputdir))[0]\n",
    "hdulist = fits.open(infits)\n",
    "#hdulist[1].header"
   ],
   "outputs": [
    {
     "output_type": "stream",
     "name": "stdout",
     "text": [
      "(256, 256)\n",
      "11460.977905273438 59847.0\n"
     ]
    },
    {
     "output_type": "display_data",
     "data": {
      "text/plain": [
       "<Figure size 720x216 with 4 Axes>"
      ],
      "image/png": "[encoded data removed]"
     },
     "metadata": {
      "needs_background": "light"
     }
    }
   ],
   "metadata": {}
  },
  {
   "cell_type": "code",
   "execution_count": null,
   "source": [],
   "outputs": [],
   "metadata": {}
  }
 ],
 "metadata": {
  "kernelspec": {
   "name": "python3",
   "display_name": "Python 3.8.8 64-bit ('mirisim': conda)"
  },
  "language_info": {
   "codemirror_mode": {
    "name": "ipython",
    "version": 3
   },
   "file_extension": ".py",
   "mimetype": "text/x-python",
   "name": "python",
   "nbconvert_exporter": "python",
   "pygments_lexer": "ipython3",
   "version": "3.8.8"
  },
  "interpreter": {
   "hash": "1e0652e53cd3aa3ae37ca74f182a33cda047db9919506aa81c2622722963d128"
  }
 },
 "nbformat": 4,
 "nbformat_minor": 5
}